{
 "cells": [
  {
   "cell_type": "code",
   "execution_count": 1,
   "id": "5cd45118-1d5b-4ce6-a42b-3e40ed8eed6c",
   "metadata": {},
   "outputs": [],
   "source": [
    "import os\n",
    "import glob\n",
    "import json\n",
    "import jsonlines\n",
    "import pandas as pd\n",
    "import sklearn.metrics as sklm"
   ]
  },
  {
   "cell_type": "code",
   "execution_count": 2,
   "id": "e37f15e0-f504-4307-bf64-3cadce926e7f",
   "metadata": {},
   "outputs": [],
   "source": [
    "def classification_report(pred,true, average=\"macro\"):\n",
    "    return {\n",
    "        \"accuracy\" : sklm.accuracy_score(y_true=true, y_pred=pred),\n",
    "        \"f1-score\" : sklm.f1_score(y_true=true, y_pred=pred, average=average),\n",
    "        \"precision\" : sklm.precision_score(y_true=true, y_pred=pred, average=average, zero_division=0.0),\n",
    "        \"recall\" : sklm.recall_score(y_true=true, y_pred=pred, average=average, zero_division=0.0)\n",
    "    }"
   ]
  },
  {
   "cell_type": "code",
   "execution_count": 3,
   "id": "97b7a607-83ac-49dd-a933-442882585445",
   "metadata": {
    "scrolled": true
   },
   "outputs": [
    {
     "name": "stdout",
     "output_type": "stream",
     "text": [
      "Saved  out/3-shot-cot_meditron-70b/metrics.json\n",
      "Saved  out/3-shot-cot_Llama3-OpenBioLLM-70B/metrics.json\n"
     ]
    }
   ],
   "source": [
    "text2label = {\"Yes\":1,\"No\":0, -1:-1}\n",
    "true_tup = [(el[\"id\"],cid,el[\"answers\"][cid]) for el in jsonlines.open('../data/test.jsonl') for cid in el[\"answers\"]]\n",
    "true_df = pd.DataFrame(true_tup, columns = [\"file_id\",\"consort_id\",\"answer\"]).sort_values(by=[\"file_id\",\"consort_id\"]).reset_index(drop=True)\n",
    "true_df[\"label\"] = true_df[\"answer\"].apply(lambda x : text2label[x])\n",
    "\n",
    "for pred_path in glob.glob(\"out/*/predictions.json\"):\n",
    "    predictions = json.load(open(pred_path))\n",
    "    output_path = pred_path.replace(\"predictions.json\",\"metrics.json\")\n",
    "    # skip if predictions are not finished or if metrics already exists\n",
    "    if len(predictions) < len(true_tup) or os.path.exists(output_path):\n",
    "        continue\n",
    "    \n",
    "    predictions_tup = []\n",
    "    for filename in predictions : \n",
    "        file_id, consort_id = filename.replace(\".txt\",\"\").split(\"_\")\n",
    "        file_id = file_id.replace(\"@\",\"/\")\n",
    "        predictions_tup.append((file_id,consort_id,predictions[filename]))\n",
    "    pred_df = pd.DataFrame(predictions_tup, columns = [\"file_id\",\"consort_id\",\"answer\"]).sort_values(by=[\"file_id\",\"consort_id\"]).reset_index(drop=True)\n",
    "    pred_df[\"label\"] = pred_df[\"answer\"].apply(lambda x : text2label[x])\n",
    "    assert (true_df[\"file_id\"] == pred_df[\"file_id\"]).all()\n",
    "    assert (true_df[\"consort_id\"] == pred_df[\"consort_id\"]).all()\n",
    "    # Measure global micro performance\n",
    "    micro_global = classification_report(pred_df[\"label\"],true_df[\"label\"])\n",
    "    # Measure per-corpus performance\n",
    "    covid_true = true_df[true_df[\"consort_id\"].str.startswith('C', na=False)][\"label\"]\n",
    "    depression_true = true_df[true_df[\"consort_id\"].str.startswith('D', na=False)][\"label\"]\n",
    "    covid_pred = pred_df[pred_df[\"consort_id\"].str.startswith('C', na=False)][\"label\"]\n",
    "    depression_pred = pred_df[pred_df[\"consort_id\"].str.startswith('D', na=False)][\"label\"]\n",
    "    covid_perf = classification_report(covid_pred,covid_true)\n",
    "    depression_perf = classification_report(depression_pred,depression_true)\n",
    "    # Measure global macro (corpus mean) performance\n",
    "    macro_perf = {}\n",
    "    for key in covid_perf :\n",
    "        macro_perf[key] = (covid_perf[key] + depression_perf[key])/2\n",
    "    # Measure per-criteria performance\n",
    "    criteria_perfs = {}\n",
    "    for crit in true_df[\"consort_id\"].unique():\n",
    "        crit_true = true_df[true_df[\"consort_id\"] == crit][\"label\"]\n",
    "        crit_pred = pred_df[pred_df[\"consort_id\"] == crit][\"label\"]\n",
    "        criteria_perfs[crit] = classification_report(crit_pred,crit_true)\n",
    "    # Metrics dict\n",
    "    metrics = {\n",
    "        \"micro_global\":micro_global,\n",
    "        \"covid\":covid_perf,\n",
    "        \"depression\":depression_perf,\n",
    "        \"macro_global\":macro_perf,\n",
    "        \"per_criteria\":criteria_perfs\n",
    "    }\n",
    "    # Save metrics\n",
    "    print(\"Saved \", output_path)\n",
    "    with open(output_path,\"w\") as metric_outfile :\n",
    "        json.dump(metrics,metric_outfile)"
   ]
  },
  {
   "cell_type": "code",
   "execution_count": null,
   "id": "c991c95c-10b4-4e00-9f34-8a6ebe74ec1b",
   "metadata": {},
   "outputs": [],
   "source": []
  }
 ],
 "metadata": {
  "kernelspec": {
   "display_name": "pytorch-gpu-2.2.0_py3.11.7",
   "language": "python",
   "name": "module-conda-env-pytorch-gpu-2.2.0_py3.11.7"
  },
  "language_info": {
   "codemirror_mode": {
    "name": "ipython",
    "version": 3
   },
   "file_extension": ".py",
   "mimetype": "text/x-python",
   "name": "python",
   "nbconvert_exporter": "python",
   "pygments_lexer": "ipython3",
   "version": "3.11.7"
  }
 },
 "nbformat": 4,
 "nbformat_minor": 5
}
